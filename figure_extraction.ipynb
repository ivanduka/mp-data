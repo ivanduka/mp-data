{
 "cells": [
  {
   "cell_type": "code",
   "execution_count": null,
   "metadata": {},
   "outputs": [],
   "source": [
    "import pandas as pd\n",
    "import os\n",
    "import fitz"
   ]
  },
  {
   "cell_type": "code",
   "execution_count": null,
   "metadata": {},
   "outputs": [],
   "source": [
    "path = 'F:/Environmental Baseline Data/Version 4 - Final/PDF/'\n",
    "pdfs = os.listdir(path)\n",
    "\n",
    "list_df = []\n",
    "for pdf in pdfs[:5]:\n",
    "    try:\n",
    "        dataID = pdf.split('.')[0]\n",
    "        doc = fitz.open(path + pdf)\n",
    "        page_count = doc.pageCount\n",
    "        for page in doc:\n",
    "            figures = page.searchFor('Figure')\n",
    "            page_num = page.number\n",
    "            rotation = page.rotation\n",
    "            try:\n",
    "                image_list = page.getImageList() # get list of used images\n",
    "            except:\n",
    "                image_list = []\n",
    "                print('Error getting image list for:', pdf, page_num)\n",
    "                pass\n",
    "            num_images = len(image_list)\n",
    "            text = page.getText('dict') # list, extract the page’s text\n",
    "            width = text['width']\n",
    "            height = text['height']\n",
    "            media_x0 = page.MediaBox[0]\n",
    "            media_y0 = page.MediaBox[1]\n",
    "            media_x1 = page.MediaBox[2]\n",
    "            media_y1 = page.MediaBox[3]\n",
    "            media_width = page.MediaBoxSize[0]\n",
    "            media_height = page.MediaBoxSize[1]\n",
    "\n",
    "            for block in text['blocks']:\n",
    "                t = block['type']\n",
    "                bbox = block['bbox']\n",
    "                if t == 1:\n",
    "                    ext, color, xres, yres, bpc, image = block['ext'], block['colorspace'], block['xres'], block['yres'], block['bpc'], block['image']\n",
    "                    block_width, block_height = block['width'], block['height']\n",
    "                else:\n",
    "                    ext, color, xres, yres, bpc, image = None, None, None, None, None, None\n",
    "                    block_width, block_height = None, None\n",
    "                list_df.append({'dataID':dataID, 'page_count':page_count, 'page_num':page_num,  'width':width, 'height':height, \n",
    "                                'rotation':rotation, 'figures':len(figures), 'num_images':num_images, 'type':t, \n",
    "                                'block_width':block_width, 'block_height':block_height, \n",
    "                                'media_x0':media_x0, 'media_y0':media_y0, 'media_x1':media_x1, 'media_y1':media_y1,\n",
    "                                'media_width':media_width, 'media_height':media_height,\n",
    "                                'bbox_x0':bbox[0], 'bbox_y0':bbox[1], 'bbox_x1':bbox[2], 'bbox_y1':bbox[3], \n",
    "                                'ext':ext, 'color':color, 'xres':xres, 'yres':yres, 'bpc':bpc})\n",
    "    except:\n",
    "        print('Error for id:', pdf)\n",
    "        pass\n",
    "df = pd.DataFrame(list_df)\n",
    "df['page_area'] = df['width'] * df['height']\n",
    "df['block_area'] = df['block_width'] * df['block_height']\n",
    "df['bbox_width'] = df['bbox_x1'] - df['bbox_x0']\n",
    "df['bbox_height'] = df['bbox_y1'] - df['bbox_y0']\n",
    "df['bbox_area'] = df['bbox_width'] * df['bbox_height']\n",
    "df['bbox_area_image'] = df['bbox_area'] * df['type']\n",
    "\n",
    "# df to table in db\n",
    "df.to_csv('image_test.csv', index=False)\n"
   ]
  },
  {
   "cell_type": "code",
   "execution_count": null,
   "metadata": {},
   "outputs": [],
   "source": [
    "df.head()"
   ]
  },
  {
   "cell_type": "code",
   "execution_count": null,
   "metadata": {},
   "outputs": [],
   "source": []
  }
 ],
 "metadata": {
  "kernelspec": {
   "display_name": "Python 3",
   "language": "python",
   "name": "python3"
  },
  "language_info": {
   "codemirror_mode": {
    "name": "ipython",
    "version": 3
   },
   "file_extension": ".py",
   "mimetype": "text/x-python",
   "name": "python",
   "nbconvert_exporter": "python",
   "pygments_lexer": "ipython3",
   "version": "3.7.1"
  }
 },
 "nbformat": 4,
 "nbformat_minor": 4
}
